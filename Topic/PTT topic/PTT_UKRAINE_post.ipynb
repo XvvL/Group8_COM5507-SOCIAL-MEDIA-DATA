{
 "cells": [
  {
   "cell_type": "code",
   "execution_count": 1,
   "id": "0c2d260c",
   "metadata": {},
   "outputs": [],
   "source": [
    "#call for functions \n",
    "import requests\n",
    "import bs4 as bs\n",
    "import pandas as pd\n",
    "\n",
    "#time set\n",
    "from time import sleep\n",
    "from time import time\n",
    "from random import randint"
   ]
  },
  {
   "cell_type": "code",
   "execution_count": 2,
   "id": "fcffa1d4",
   "metadata": {},
   "outputs": [],
   "source": [
    "#create lists to store items\n",
    "#items\n",
    "post_links=[]\n",
    "main_titles=[]\n",
    "main_users=[]\n",
    "main_times=[]\n",
    "main_texts=[]\n",
    "main_links=[]\n",
    "\n",
    "\n"
   ]
  },
  {
   "cell_type": "code",
   "execution_count": 3,
   "id": "41b5e388",
   "metadata": {},
   "outputs": [],
   "source": [
    "#get related posts links from 24/02/2022 to 02/03/2022\n",
    "pages=[str(i) for i in range(176,324)]\n",
    "i=0\n",
    "for page in pages:\n",
    "    #make get requests,set cookies 18+, obtaining browse permission\n",
    "    ptt_source=requests.get('https://www.ptt.cc/bbs/Gossiping/search?page='+pages[i]+'&q=烏克蘭',cookies={'over18':'1'})\n",
    "    i+=1\n",
    "    #get the links\n",
    "    page_html=bs.BeautifulSoup(ptt_source.content,'html.parser')\n",
    "    post_titleinfo=page_html.find_all('div',class_='title')\n",
    "    \n",
    "    for titleinfo in post_titleinfo:\n",
    "            for post_title in titleinfo.find_all('a'):\n",
    "    #save links\n",
    "                post_links.append('https://www.ptt.cc'+post_title.get('href'))\n",
    "                \n",
    "#loading time          \n",
    "sleep(randint(1, 3))"
   ]
  },
  {
   "cell_type": "code",
   "execution_count": 4,
   "id": "b4ed2736",
   "metadata": {},
   "outputs": [
    {
     "data": {
      "text/plain": [
       "2960"
      ]
     },
     "execution_count": 4,
     "metadata": {},
     "output_type": "execute_result"
    }
   ],
   "source": [
    "len(post_links)"
   ]
  },
  {
   "cell_type": "code",
   "execution_count": null,
   "id": "5baede43",
   "metadata": {},
   "outputs": [],
   "source": [
    "#request each related link\n",
    "links=[str(n) for n in post_links]\n",
    "num=0\n",
    "for link in post_links:\n",
    "    post_source=requests.get(links[num],cookies={'over18':'1'})\n",
    "    \n",
    "    #get the post items with beautifulsoup\n",
    "    post_html=bs.BeautifulSoup(post_source.content,'html.parser')\n",
    "    \n",
    "    for main_box in post_html.find_all('div',class_='bbs-screen bbs-content'):\n",
    "        try:\n",
    "            main_user=main_box.select('div:nth-of-type(1)')[0].text\n",
    "            main_users.append(main_user)\n",
    "        except:\n",
    "            main_users.append('null')\n",
    "        \n",
    "        try:\n",
    "            main_title=main_box.select('div:nth-of-type(3)')[0].text\n",
    "            main_titles.append(main_title)\n",
    "        except:\n",
    "            main_titles.append('null')\n",
    "            \n",
    "        try:\n",
    "            main_time=main_box.select('div:nth-of-type(4)')[0].text\n",
    "            main_times.append(main_time)\n",
    "        except:\n",
    "            main_times.append('null')\n",
    "            \n",
    "        try:\n",
    "            [s.extract() for s in main_box('span')]\n",
    "            main_texts.append(main_box.text.strip())\n",
    "        except:\n",
    "            main_texts.append('null')\n",
    "        \n",
    "        try:\n",
    "            main_links.append(links[num])\n",
    "            num+=1\n",
    "        except:\n",
    "            pass\n",
    "            \n",
    "            \n",
    "            \n",
    "        \n",
    "   \n",
    " #loading time\n",
    "\n",
    "sleep(randint(1,2))\n",
    "\n",
    "    \n"
   ]
  },
  {
   "cell_type": "code",
   "execution_count": 6,
   "id": "a6428cce",
   "metadata": {},
   "outputs": [],
   "source": [
    "ptt_ukraine={\n",
    "    'main_titles':main_titles,\n",
    "    'main_users':main_users,\n",
    "    'main_times':main_times,\n",
    "    'main_texts':main_texts,\n",
    "    'main_links':main_links,\n",
    "}"
   ]
  },
  {
   "cell_type": "code",
   "execution_count": 1,
   "id": "a90100b5",
   "metadata": {},
   "outputs": [
    {
     "ename": "NameError",
     "evalue": "name 'post_links' is not defined",
     "output_type": "error",
     "traceback": [
      "\u001b[0;31m---------------------------------------------------------------------------\u001b[0m",
      "\u001b[0;31mNameError\u001b[0m                                 Traceback (most recent call last)",
      "Input \u001b[0;32mIn [1]\u001b[0m, in \u001b[0;36m<cell line: 2>\u001b[0;34m()\u001b[0m\n\u001b[1;32m      1\u001b[0m \u001b[38;5;66;03m#count data\u001b[39;00m\n\u001b[0;32m----> 2\u001b[0m \u001b[38;5;28mlen\u001b[39m(\u001b[43mpost_links\u001b[49m)\n\u001b[1;32m      3\u001b[0m \u001b[38;5;28mlen\u001b[39m(main_titles)\n\u001b[1;32m      4\u001b[0m \u001b[38;5;28mlen\u001b[39m(main_users)\n",
      "\u001b[0;31mNameError\u001b[0m: name 'post_links' is not defined"
     ]
    }
   ],
   "source": [
    "len(main_titles)\n",
    "len(main_users)\n",
    "len(main_times)\n",
    "len(main_texts)"
   ]
  },
  {
   "cell_type": "code",
   "execution_count": 8,
   "id": "131af31c",
   "metadata": {},
   "outputs": [
    {
     "name": "stdout",
     "output_type": "stream",
     "text": [
      "<class 'pandas.core.frame.DataFrame'>\n",
      "RangeIndex: 2960 entries, 0 to 2959\n",
      "Data columns (total 5 columns):\n",
      " #   Column       Non-Null Count  Dtype \n",
      "---  ------       --------------  ----- \n",
      " 0   main_titles  2960 non-null   object\n",
      " 1   main_users   2960 non-null   object\n",
      " 2   main_times   2960 non-null   object\n",
      " 3   main_texts   2960 non-null   object\n",
      " 4   main_links   2960 non-null   object\n",
      "dtypes: object(5)\n",
      "memory usage: 115.8+ KB\n"
     ]
    }
   ],
   "source": [
    "# preview data information\n",
    "pd_ukraine=pd.DataFrame.from_dict(ptt_ukraine,orient='index').transpose()\n",
    "pd_ukraine.info()"
   ]
  },
  {
   "cell_type": "code",
   "execution_count": 9,
   "id": "937332be",
   "metadata": {},
   "outputs": [],
   "source": [
    "#save data\n",
    "#recode to prevent garbage characters\n",
    "pd_ukraine.to_csv('ukraine.csv',encoding='utf_8_sig')"
   ]
  },
  {
   "cell_type": "code",
   "execution_count": null,
   "id": "0bf58dac",
   "metadata": {},
   "outputs": [],
   "source": []
  },
  {
   "cell_type": "code",
   "execution_count": null,
   "id": "a0e479e7",
   "metadata": {},
   "outputs": [],
   "source": []
  },
  {
   "cell_type": "code",
   "execution_count": null,
   "id": "40bc0cc6",
   "metadata": {},
   "outputs": [],
   "source": []
  }
 ],
 "metadata": {
  "kernelspec": {
   "display_name": "Python 3 (ipykernel)",
   "language": "python",
   "name": "python3"
  },
  "language_info": {
   "codemirror_mode": {
    "name": "ipython",
    "version": 3
   },
   "file_extension": ".py",
   "mimetype": "text/x-python",
   "name": "python",
   "nbconvert_exporter": "python",
   "pygments_lexer": "ipython3",
   "version": "3.9.12"
  }
 },
 "nbformat": 4,
 "nbformat_minor": 5
}
